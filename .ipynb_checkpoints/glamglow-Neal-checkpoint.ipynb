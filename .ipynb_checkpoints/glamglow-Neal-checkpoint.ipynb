{
 "cells": [
  {
   "cell_type": "code",
   "execution_count": 1,
   "metadata": {
    "collapsed": true
   },
   "outputs": [],
   "source": [
    "import json\n",
    "from bs4 import BeautifulSoup\n",
    "import pandas as pd\n",
    "import numpy as np\n",
    "import requests\n",
    "from time import time\n",
    "from collections import defaultdict"
   ]
  },
  {
   "cell_type": "code",
   "execution_count": 2,
   "metadata": {
    "collapsed": true
   },
   "outputs": [],
   "source": [
    "base_url = 'https://www.glamglow.com'\n",
    "suffix_url = '/products/18842/shop-all'\n",
    "\n",
    "username = 'glamglow'\n"
   ]
  },
  {
   "cell_type": "code",
   "execution_count": 3,
   "metadata": {
    "collapsed": true
   },
   "outputs": [],
   "source": [
    "r = requests.get('https://www.glamglow.com/products/18842/shop-all')\n",
    "soup = BeautifulSoup(r.text,'lxml')\n"
   ]
  },
  {
   "cell_type": "code",
   "execution_count": 4,
   "metadata": {
    "collapsed": true
   },
   "outputs": [],
   "source": [
    "def get_image_url(soup):\n",
    "    return [base_url+ x.find('img')['src'] for x in soup.find_all('div',class_ = 'product-grid__item')]\n",
    "\n",
    "def get_sku(soup):\n",
    "   \n",
    "    \n",
    "    return  [x.find('div',{'class': 'product-thumb__image-wrapper'}).img['data-default-sku-pcode']\n",
    "            for x in soup.find_all('div',class_ = 'product-grid__item')]\n",
    "    \n",
    "\n",
    "def get_price(soup):\n",
    "    try:\n",
    "        price = [float(x.find('span',class_='product_brief ').text.strip().strip('$')) for x in soup.find_all('div',class_ = 'product-grid__item')]\n",
    "     \n",
    "    except ValueError:\n",
    "        pass\n",
    "    return price\n",
    "\n",
    "def get_product_url(soup):\n",
    "     \n",
    "    return [base_url + x.find('a')['href'] for x in soup.find_all('div',class_ = 'product-grid__item')]   \n",
    "\n",
    "def get_product_name(soup):\n",
    "    return [x.find('a',class_ = 'product-thumb__headline-link').text.strip('#') for x in soup.find_all('div',class_ = 'product-grid__item')]"
   ]
  },
  {
   "cell_type": "code",
   "execution_count": 5,
   "metadata": {
    "collapsed": true
   },
   "outputs": [],
   "source": [
    "funcs = {'name':get_product_name,\n",
    "         'product_url' : get_product_url,\n",
    "         'price' : get_price,\n",
    "         'sku' : get_sku,\n",
    "         'image_url' : get_image_url}"
   ]
  },
  {
   "cell_type": "code",
   "execution_count": 6,
   "metadata": {
    "collapsed": true
   },
   "outputs": [],
   "source": [
    "product_dict = defaultdict(list)\n",
    "\n",
    "r = requests.get(base_url+suffix_url)\n",
    "soup = BeautifulSoup(r.text,'lxml')\n",
    "\n",
    "for key,func in funcs.items():\n",
    "    product_dict[key].extend(func(soup))\n",
    "    \n",
    "    \n",
    "# Creating additional columns\n",
    "product_dict['username'] = [username for x in range(len(product_dict['name']))]\n",
    "product_dict['main_category'] = [None for x in range(len(product_dict['name']))]\n",
    "product_dict['sub_category'] = [None for x in range(len(product_dict['name']))]\n",
    "product_dict['product_category'] = [None for x in range(len(product_dict['name']))]\n"
   ]
  },
  {
   "cell_type": "code",
   "execution_count": 7,
   "metadata": {},
   "outputs": [
    {
     "data": {
      "text/html": [
       "<div>\n",
       "<style>\n",
       "    .dataframe thead tr:only-child th {\n",
       "        text-align: right;\n",
       "    }\n",
       "\n",
       "    .dataframe thead th {\n",
       "        text-align: left;\n",
       "    }\n",
       "\n",
       "    .dataframe tbody tr th {\n",
       "        vertical-align: top;\n",
       "    }\n",
       "</style>\n",
       "<table border=\"1\" class=\"dataframe\">\n",
       "  <thead>\n",
       "    <tr style=\"text-align: right;\">\n",
       "      <th></th>\n",
       "      <th>image_url</th>\n",
       "      <th>main_category</th>\n",
       "      <th>name</th>\n",
       "      <th>price</th>\n",
       "      <th>product_category</th>\n",
       "      <th>product_url</th>\n",
       "      <th>sku</th>\n",
       "      <th>sub_category</th>\n",
       "      <th>username</th>\n",
       "    </tr>\n",
       "  </thead>\n",
       "  <tbody>\n",
       "    <tr>\n",
       "      <th>0</th>\n",
       "      <td>https://www.glamglow.com/media/export/cms/prod...</td>\n",
       "      <td>None</td>\n",
       "      <td>GLITTERMASK GRAVITYMUD™ FIRMING TREATMENT</td>\n",
       "      <td>69.0</td>\n",
       "      <td>None</td>\n",
       "      <td>https://www.glamglow.com/product/18842/51072/s...</td>\n",
       "      <td>G0HY01</td>\n",
       "      <td>None</td>\n",
       "      <td>glamglow</td>\n",
       "    </tr>\n",
       "    <tr>\n",
       "      <th>1</th>\n",
       "      <td>https://www.glamglow.com/media/export/cms/prod...</td>\n",
       "      <td>None</td>\n",
       "      <td>SUPERMUD® CLEARING TREATMENT</td>\n",
       "      <td>69.0</td>\n",
       "      <td>None</td>\n",
       "      <td>https://www.glamglow.com/product/18842/39399/s...</td>\n",
       "      <td>G06201</td>\n",
       "      <td>None</td>\n",
       "      <td>glamglow</td>\n",
       "    </tr>\n",
       "    <tr>\n",
       "      <th>2</th>\n",
       "      <td>https://www.glamglow.com/media/export/cms/prod...</td>\n",
       "      <td>None</td>\n",
       "      <td>MULTIMASKING MASK TREATMENT SET</td>\n",
       "      <td>39.0</td>\n",
       "      <td>None</td>\n",
       "      <td>https://www.glamglow.com/product/18842/47230/s...</td>\n",
       "      <td>G0G101</td>\n",
       "      <td>None</td>\n",
       "      <td>glamglow</td>\n",
       "    </tr>\n",
       "    <tr>\n",
       "      <th>3</th>\n",
       "      <td>https://www.glamglow.com/media/export/cms/prod...</td>\n",
       "      <td>None</td>\n",
       "      <td>GLOWSTARTER™ MEGA ILLUMINATING MOISTURIZER</td>\n",
       "      <td>49.0</td>\n",
       "      <td>None</td>\n",
       "      <td>https://www.glamglow.com/product/18842/41472/s...</td>\n",
       "      <td>G05902</td>\n",
       "      <td>None</td>\n",
       "      <td>glamglow</td>\n",
       "    </tr>\n",
       "    <tr>\n",
       "      <th>4</th>\n",
       "      <td>https://www.glamglow.com/media/export/cms/prod...</td>\n",
       "      <td>None</td>\n",
       "      <td>YOUTHMUD® TINGLEXFOLIATE TREATMENT</td>\n",
       "      <td>69.0</td>\n",
       "      <td>None</td>\n",
       "      <td>https://www.glamglow.com/product/18842/36600/s...</td>\n",
       "      <td>G06501</td>\n",
       "      <td>None</td>\n",
       "      <td>glamglow</td>\n",
       "    </tr>\n",
       "  </tbody>\n",
       "</table>\n",
       "</div>"
      ],
      "text/plain": [
       "                                           image_url main_category  \\\n",
       "0  https://www.glamglow.com/media/export/cms/prod...          None   \n",
       "1  https://www.glamglow.com/media/export/cms/prod...          None   \n",
       "2  https://www.glamglow.com/media/export/cms/prod...          None   \n",
       "3  https://www.glamglow.com/media/export/cms/prod...          None   \n",
       "4  https://www.glamglow.com/media/export/cms/prod...          None   \n",
       "\n",
       "                                         name  price product_category  \\\n",
       "0   GLITTERMASK GRAVITYMUD™ FIRMING TREATMENT   69.0             None   \n",
       "1                SUPERMUD® CLEARING TREATMENT   69.0             None   \n",
       "2             MULTIMASKING MASK TREATMENT SET   39.0             None   \n",
       "3  GLOWSTARTER™ MEGA ILLUMINATING MOISTURIZER   49.0             None   \n",
       "4          YOUTHMUD® TINGLEXFOLIATE TREATMENT   69.0             None   \n",
       "\n",
       "                                         product_url     sku sub_category  \\\n",
       "0  https://www.glamglow.com/product/18842/51072/s...  G0HY01         None   \n",
       "1  https://www.glamglow.com/product/18842/39399/s...  G06201         None   \n",
       "2  https://www.glamglow.com/product/18842/47230/s...  G0G101         None   \n",
       "3  https://www.glamglow.com/product/18842/41472/s...  G05902         None   \n",
       "4  https://www.glamglow.com/product/18842/36600/s...  G06501         None   \n",
       "\n",
       "   username  \n",
       "0  glamglow  \n",
       "1  glamglow  \n",
       "2  glamglow  \n",
       "3  glamglow  \n",
       "4  glamglow  "
      ]
     },
     "execution_count": 7,
     "metadata": {},
     "output_type": "execute_result"
    }
   ],
   "source": [
    "df = pd.DataFrame(product_dict)\n",
    "df.head()"
   ]
  },
  {
   "cell_type": "code",
   "execution_count": 8,
   "metadata": {
    "collapsed": true
   },
   "outputs": [],
   "source": [
    "# Dropping duplicates\n",
    "\n",
    "df2 = df.drop_duplicates(subset = ['name','sku'])\n"
   ]
  },
  {
   "cell_type": "code",
   "execution_count": 9,
   "metadata": {
    "collapsed": true
   },
   "outputs": [],
   "source": [
    "# Exporting to csv\n",
    "\n",
    "df2.to_csv('glamglow.csv')"
   ]
  },
  {
   "cell_type": "code",
   "execution_count": null,
   "metadata": {
    "collapsed": true
   },
   "outputs": [],
   "source": []
  }
 ],
 "metadata": {
  "kernelspec": {
   "display_name": "Python 3",
   "language": "python",
   "name": "python3"
  },
  "language_info": {
   "codemirror_mode": {
    "name": "ipython",
    "version": 3
   },
   "file_extension": ".py",
   "mimetype": "text/x-python",
   "name": "python",
   "nbconvert_exporter": "python",
   "pygments_lexer": "ipython3",
   "version": "3.6.3"
  }
 },
 "nbformat": 4,
 "nbformat_minor": 2
}
