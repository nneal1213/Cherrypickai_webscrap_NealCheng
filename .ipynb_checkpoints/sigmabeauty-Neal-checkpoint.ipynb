{
 "cells": [
  {
   "cell_type": "code",
   "execution_count": 2,
   "metadata": {
    "collapsed": true
   },
   "outputs": [],
   "source": [
    "import json\n",
    "from bs4 import BeautifulSoup\n",
    "import pandas as pd\n",
    "import numpy as np\n",
    "import requests\n",
    "import re\n",
    "from time import time\n",
    "from collections import defaultdict"
   ]
  },
  {
   "cell_type": "code",
   "execution_count": 3,
   "metadata": {
    "collapsed": true
   },
   "outputs": [],
   "source": [
    "base_url = 'https://www.sigmabeauty.com'\n",
    "username = 'sigmabeauty'\n",
    "\n",
    "categories = ['/c/317?pageSize=500','/c/316?pageSize=500','/brush-care/c/1151?pageSize=500'            ]\n"
   ]
  },
  {
   "cell_type": "code",
   "execution_count": 105,
   "metadata": {
    "collapsed": true
   },
   "outputs": [],
   "source": [
    "r = requests.get(base_url+categories[0])\n",
    "soup = BeautifulSoup(r.text,'lxml')\n"
   ]
  },
  {
   "cell_type": "code",
   "execution_count": 129,
   "metadata": {
    "collapsed": true
   },
   "outputs": [],
   "source": [
    "def get_image_url(soup):\n",
    "    \n",
    "    each_product = soup.find_all('li',class_ = 'mz-productlist-item')\n",
    "   \n",
    "    return ['https:'+x.find('div',class_ = 'mz-productlisting-image').img['src'] for x in each_product]\n",
    "\n",
    "def get_sku(soup):  # need to be done\n",
    "    each_product = soup.find_all('li',class_ = 'mz-productlist-item')\n",
    "    \n",
    "    \n",
    "#     if x.find('select',{'name':'id'}).find('option')['data-sku'] is not None\n",
    "    #each_product = soup.find_all('div',{'class':'grid__item small--one-whole medium--one-half large--one-fifth product-grid-item'})\n",
    "    \n",
    "    #item_details = [x for x in prod.find_all('div',class_='product details product-item-details')]\n",
    "\n",
    "    \n",
    "    \n",
    "    return [x.find('div',class_='bvr-inline-rating')['data-mz-product-code'] for x in each_product]    \n",
    "    \n",
    "    #return  [x.find('select',{'name':'id'}).find('option')['data-sku'] for x in each_product]\n",
    "    \n",
    "\n",
    "def get_price(soup):\n",
    "#     try:\n",
    "#         each_product = soup.find_all('div',{'class':'grid__item small--one-whole medium--one-half large--one-fifth product-grid-item'})\n",
    "\n",
    "#         price = [float(x.find(class_ = 'product-single__variants').text.strip().strip('$')) for x in each_product]\n",
    "        \n",
    "#     except ValueError:\n",
    "#         price = [None for x in each_product]\n",
    "#         pass\n",
    "#     return price\n",
    "\n",
    "    each_product = soup.find_all('li',class_ = 'mz-productlist-item')\n",
    "    product_list = []\n",
    "\n",
    "    for product in each_product:\n",
    "\n",
    "        try:\n",
    "            if product.find('span',class_='mz-price is-crossedout') is not None:\n",
    "                product_list.append(float(product.find('span',class_='mz-price is-crossedout').text.strip('$')))\n",
    "            else:\n",
    "                product_list.append(float(product.find('span',class_='mz-price').text.strip('$')))\n",
    "        \n",
    "        except ValueError:\n",
    "         \n",
    "            product_list.append(None)\n",
    "        \n",
    "    return product_list\n",
    "\n",
    "\n",
    "def get_product_url(soup):\n",
    "     \n",
    "    each_product = soup.find_all('li',class_ = 'mz-productlist-item')    \n",
    "        \n",
    "        \n",
    "    return [base_url + x.find('a')['href'] for x in each_product]   \n",
    "\n",
    "def get_product_name(soup):\n",
    "    each_product = soup.find_all('div',class_ = 'mz-productlisting-productcode')\n",
    "    \n",
    "    \n",
    "    return [x.text for x in each_product]"
   ]
  },
  {
   "cell_type": "code",
   "execution_count": 131,
   "metadata": {
    "collapsed": true
   },
   "outputs": [],
   "source": [
    "funcs = {'name':get_product_name,\n",
    "         'product_url' : get_product_url,\n",
    "         'price' : get_price,\n",
    "         'sku' : get_sku,\n",
    "         'image_url' : get_image_url}"
   ]
  },
  {
   "cell_type": "code",
   "execution_count": 132,
   "metadata": {
    "collapsed": true
   },
   "outputs": [],
   "source": [
    "product_dict = defaultdict(list)\n",
    "\n",
    "for category in categories:\n",
    "    try:\n",
    "        r = requests.get(base_url+category)\n",
    "    except ConnectionError:\n",
    "        break\n",
    "    \n",
    "    soup = BeautifulSoup(r.text,'lxml')\n",
    "\n",
    "    for key,func in funcs.items():\n",
    "        product_dict[key].extend(func(soup))\n",
    "\n",
    "    \n",
    "# Creating additional columns\n",
    "product_dict['username'] = [username for x in range(len(product_dict['name']))]\n",
    "product_dict['main_category'] = [None for x in range(len(product_dict['name']))]\n",
    "product_dict['sub_category'] = [None for x in range(len(product_dict['name']))]\n",
    "product_dict['product_category'] = [None for x in range(len(product_dict['name']))]\n"
   ]
  },
  {
   "cell_type": "code",
   "execution_count": 133,
   "metadata": {},
   "outputs": [
    {
     "data": {
      "text/plain": [
       "[288, 288, 288, 288, 288, 288, 288, 288, 288]"
      ]
     },
     "execution_count": 133,
     "metadata": {},
     "output_type": "execute_result"
    }
   ],
   "source": [
    "[len(x) for x in product_dict.values()]"
   ]
  },
  {
   "cell_type": "code",
   "execution_count": 94,
   "metadata": {},
   "outputs": [
    {
     "data": {
      "text/plain": [
       "dict_keys(['name', 'product_url', 'price', 'sku', 'image_url', 'username', 'main_category', 'sub_category', 'product_category'])"
      ]
     },
     "execution_count": 94,
     "metadata": {},
     "output_type": "execute_result"
    }
   ],
   "source": [
    "product_dict.keys()"
   ]
  },
  {
   "cell_type": "code",
   "execution_count": 134,
   "metadata": {},
   "outputs": [
    {
     "data": {
      "text/html": [
       "<div>\n",
       "<style>\n",
       "    .dataframe thead tr:only-child th {\n",
       "        text-align: right;\n",
       "    }\n",
       "\n",
       "    .dataframe thead th {\n",
       "        text-align: left;\n",
       "    }\n",
       "\n",
       "    .dataframe tbody tr th {\n",
       "        vertical-align: top;\n",
       "    }\n",
       "</style>\n",
       "<table border=\"1\" class=\"dataframe\">\n",
       "  <thead>\n",
       "    <tr style=\"text-align: right;\">\n",
       "      <th></th>\n",
       "      <th>image_url</th>\n",
       "      <th>main_category</th>\n",
       "      <th>name</th>\n",
       "      <th>price</th>\n",
       "      <th>product_category</th>\n",
       "      <th>product_url</th>\n",
       "      <th>sku</th>\n",
       "      <th>sub_category</th>\n",
       "      <th>username</th>\n",
       "    </tr>\n",
       "  </thead>\n",
       "  <tbody>\n",
       "    <tr>\n",
       "      <th>0</th>\n",
       "      <td>https://cdn-tp1.mozu.com/7907-10193/cms/10193/...</td>\n",
       "      <td>None</td>\n",
       "      <td>3DHD® - Kabuki Brush</td>\n",
       "      <td>25.0</td>\n",
       "      <td>None</td>\n",
       "      <td>https://www.sigmabeauty.com/3dhd-kabuki/p/3DK</td>\n",
       "      <td>3DK</td>\n",
       "      <td>None</td>\n",
       "      <td>sigmabeauty</td>\n",
       "    </tr>\n",
       "    <tr>\n",
       "      <th>1</th>\n",
       "      <td>https://cdn-tp1.mozu.com/7907-10193/cms/10193/...</td>\n",
       "      <td>None</td>\n",
       "      <td>3DHD® - Precision Brush</td>\n",
       "      <td>20.0</td>\n",
       "      <td>None</td>\n",
       "      <td>https://www.sigmabeauty.com/3dhd-precision/p/3DP</td>\n",
       "      <td>3DP</td>\n",
       "      <td>None</td>\n",
       "      <td>sigmabeauty</td>\n",
       "    </tr>\n",
       "    <tr>\n",
       "      <th>2</th>\n",
       "      <td>https://cdn-tp1.mozu.com/7907-10193/cms/10193/...</td>\n",
       "      <td>None</td>\n",
       "      <td>3DHD® Max Kabuki</td>\n",
       "      <td>27.0</td>\n",
       "      <td>None</td>\n",
       "      <td>https://www.sigmabeauty.com/3dhd-max-kabuki/p/...</td>\n",
       "      <td>3DK-M</td>\n",
       "      <td>None</td>\n",
       "      <td>sigmabeauty</td>\n",
       "    </tr>\n",
       "    <tr>\n",
       "      <th>3</th>\n",
       "      <td>https://cdn-tp1.mozu.com/7907-10193/cms/10193/...</td>\n",
       "      <td>None</td>\n",
       "      <td>3DHD® Precision - Pink</td>\n",
       "      <td>20.0</td>\n",
       "      <td>None</td>\n",
       "      <td>https://www.sigmabeauty.com/3dhd-precision-pin...</td>\n",
       "      <td>3DP-P</td>\n",
       "      <td>None</td>\n",
       "      <td>sigmabeauty</td>\n",
       "    </tr>\n",
       "    <tr>\n",
       "      <th>4</th>\n",
       "      <td>https://cdn-tp1.mozu.com/7907-10193/cms/10193/...</td>\n",
       "      <td>None</td>\n",
       "      <td>3DHD® Precision - White</td>\n",
       "      <td>20.0</td>\n",
       "      <td>None</td>\n",
       "      <td>https://www.sigmabeauty.com/3dhd-precision-whi...</td>\n",
       "      <td>3DP-W</td>\n",
       "      <td>None</td>\n",
       "      <td>sigmabeauty</td>\n",
       "    </tr>\n",
       "  </tbody>\n",
       "</table>\n",
       "</div>"
      ],
      "text/plain": [
       "                                           image_url main_category  \\\n",
       "0  https://cdn-tp1.mozu.com/7907-10193/cms/10193/...          None   \n",
       "1  https://cdn-tp1.mozu.com/7907-10193/cms/10193/...          None   \n",
       "2  https://cdn-tp1.mozu.com/7907-10193/cms/10193/...          None   \n",
       "3  https://cdn-tp1.mozu.com/7907-10193/cms/10193/...          None   \n",
       "4  https://cdn-tp1.mozu.com/7907-10193/cms/10193/...          None   \n",
       "\n",
       "                      name  price product_category  \\\n",
       "0     3DHD® - Kabuki Brush   25.0             None   \n",
       "1  3DHD® - Precision Brush   20.0             None   \n",
       "2         3DHD® Max Kabuki   27.0             None   \n",
       "3   3DHD® Precision - Pink   20.0             None   \n",
       "4  3DHD® Precision - White   20.0             None   \n",
       "\n",
       "                                         product_url    sku sub_category  \\\n",
       "0      https://www.sigmabeauty.com/3dhd-kabuki/p/3DK    3DK         None   \n",
       "1   https://www.sigmabeauty.com/3dhd-precision/p/3DP    3DP         None   \n",
       "2  https://www.sigmabeauty.com/3dhd-max-kabuki/p/...  3DK-M         None   \n",
       "3  https://www.sigmabeauty.com/3dhd-precision-pin...  3DP-P         None   \n",
       "4  https://www.sigmabeauty.com/3dhd-precision-whi...  3DP-W         None   \n",
       "\n",
       "      username  \n",
       "0  sigmabeauty  \n",
       "1  sigmabeauty  \n",
       "2  sigmabeauty  \n",
       "3  sigmabeauty  \n",
       "4  sigmabeauty  "
      ]
     },
     "execution_count": 134,
     "metadata": {},
     "output_type": "execute_result"
    }
   ],
   "source": [
    "df = pd.DataFrame(product_dict)\n",
    "df.head()"
   ]
  },
  {
   "cell_type": "code",
   "execution_count": 135,
   "metadata": {},
   "outputs": [
    {
     "data": {
      "text/plain": [
       "(288, 9)"
      ]
     },
     "execution_count": 135,
     "metadata": {},
     "output_type": "execute_result"
    }
   ],
   "source": [
    "df.shape"
   ]
  },
  {
   "cell_type": "code",
   "execution_count": 136,
   "metadata": {},
   "outputs": [
    {
     "data": {
      "text/plain": [
       "(231, 9)"
      ]
     },
     "execution_count": 136,
     "metadata": {},
     "output_type": "execute_result"
    }
   ],
   "source": [
    "# Dropping duplicates\n",
    "\n",
    "df2 = df.drop_duplicates(subset = ['name','sku'])\n",
    "df2.shape"
   ]
  },
  {
   "cell_type": "code",
   "execution_count": 137,
   "metadata": {
    "collapsed": true
   },
   "outputs": [],
   "source": [
    "# Exporting to csv\n",
    "\n",
    "df2.to_csv(username+'.csv')"
   ]
  },
  {
   "cell_type": "code",
   "execution_count": null,
   "metadata": {
    "collapsed": true
   },
   "outputs": [],
   "source": []
  }
 ],
 "metadata": {
  "kernelspec": {
   "display_name": "Python 3",
   "language": "python",
   "name": "python3"
  },
  "language_info": {
   "codemirror_mode": {
    "name": "ipython",
    "version": 3
   },
   "file_extension": ".py",
   "mimetype": "text/x-python",
   "name": "python",
   "nbconvert_exporter": "python",
   "pygments_lexer": "ipython3",
   "version": "3.6.3"
  }
 },
 "nbformat": 4,
 "nbformat_minor": 2
}
