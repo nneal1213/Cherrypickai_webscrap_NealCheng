{
 "cells": [
  {
   "cell_type": "code",
   "execution_count": 674,
   "metadata": {
    "collapsed": true
   },
   "outputs": [],
   "source": [
    "import json\n",
    "from bs4 import BeautifulSoup\n",
    "import pandas as pd\n",
    "import numpy as np\n",
    "import requests\n",
    "from time import sleep\n",
    "from collections import defaultdict"
   ]
  },
  {
   "cell_type": "code",
   "execution_count": 675,
   "metadata": {
    "collapsed": true
   },
   "outputs": [],
   "source": [
    "base_url = 'https://www.wetnwildbeauty.com/'\n",
    "categories = ['new','eyes','lips','nails','face','accessories','sale','limited-editions']\n",
    "username = 'wetnwildbeauty'\n"
   ]
  },
  {
   "cell_type": "code",
   "execution_count": 676,
   "metadata": {
    "collapsed": true
   },
   "outputs": [],
   "source": [
    "def get_image_url(prod):\n",
    "    \n",
    "    return [x['src'] for x in prod.find_all('img',class_='product-image-photo')]\n",
    "\n",
    "def get_sku(prod):\n",
    "    \n",
    "    item_details = [x for x in prod.find_all('div',class_='product details product-item-details')]\n",
    "\n",
    "    data_product_id = []\n",
    "    \n",
    "    for index,x in enumerate(item_details):\n",
    "        \n",
    "        if x.find('div',class_='price-box price-final_price') is not None:\n",
    "            data_product_id.append(x.find('div',class_='price-box price-final_price')['data-product-id'])\n",
    "\n",
    "        elif x.find('div','price-box custom-price-wrapper price-final_price') is not None:\n",
    "            data_product_id.append(x.find('div','price-box custom-price-wrapper price-final_price')['data-product-id'])\n",
    "        else:\n",
    "            data_product_id.append(None)\n",
    "        \n",
    "    \n",
    "    return data_product_id\n",
    "    \n",
    "\n",
    "def get_price(prod):\n",
    "    try:\n",
    "        \n",
    "        item_details = [x for x in prod.find_all('div',class_='product details product-item-details')]\n",
    "        price = []\n",
    "        \n",
    "        for index,x in enumerate(item_details):\n",
    "            if x.find('div',class_='old-price') is not None:\n",
    "                price.append(float(x.find('div',class_='old-price').text.strip('$').strip()))\n",
    "\n",
    "            else:\n",
    "                price.append(float(x.find('span',class_ = 'price-container price-final_price tax weee').text.strip().strip('$'))) \n",
    "\n",
    "        \n",
    "    except ValueError:\n",
    "        pass\n",
    "    return price\n",
    "\n",
    "def get_product_url(prod):\n",
    "     \n",
    "    return [x['href'] for x in prod.find_all('a',class_='product-item-link')]   \n",
    "\n",
    "def get_product_name(prod):\n",
    "    \n",
    "    return [x.text.strip() for x in prod.find_all('a',{'class':'product-item-link'})]"
   ]
  },
  {
   "cell_type": "code",
   "execution_count": 677,
   "metadata": {
    "collapsed": true
   },
   "outputs": [],
   "source": [
    "funcs = {'name':get_product_name,\n",
    "         'product_url' : get_product_url,\n",
    "         'price' : get_price,\n",
    "         'sku' : get_sku,\n",
    "         'image_url' : get_image_url}"
   ]
  },
  {
   "cell_type": "code",
   "execution_count": 678,
   "metadata": {
    "collapsed": true
   },
   "outputs": [],
   "source": [
    "product_dict = defaultdict(list)\n",
    "\n",
    "for category in categories:\n",
    "    try:\n",
    "        r = requests.get(base_url+category+'.html')\n",
    "    except ConnectionError:\n",
    "        break\n",
    "    \n",
    "    soup = BeautifulSoup(r.text,'lxml')\n",
    "    \n",
    "    for key,func in funcs.items():\n",
    "        product_dict[key].extend(func(soup))\n",
    "    \n",
    "    sleep(1)\n",
    "    \n",
    "# Creating additional columns\n",
    "product_dict['username'] = [username for x in range(len(product_dict['name']))]\n",
    "product_dict['main_category'] = [None for x in range(len(product_dict['name']))]\n",
    "product_dict['sub_category'] = [None for x in range(len(product_dict['name']))]\n",
    "product_dict['product_category'] = [None for x in range(len(product_dict['name']))]\n"
   ]
  },
  {
   "cell_type": "code",
   "execution_count": 679,
   "metadata": {},
   "outputs": [
    {
     "data": {
      "text/html": [
       "<div>\n",
       "<style>\n",
       "    .dataframe thead tr:only-child th {\n",
       "        text-align: right;\n",
       "    }\n",
       "\n",
       "    .dataframe thead th {\n",
       "        text-align: left;\n",
       "    }\n",
       "\n",
       "    .dataframe tbody tr th {\n",
       "        vertical-align: top;\n",
       "    }\n",
       "</style>\n",
       "<table border=\"1\" class=\"dataframe\">\n",
       "  <thead>\n",
       "    <tr style=\"text-align: right;\">\n",
       "      <th></th>\n",
       "      <th>image_url</th>\n",
       "      <th>main_category</th>\n",
       "      <th>name</th>\n",
       "      <th>price</th>\n",
       "      <th>product_category</th>\n",
       "      <th>product_url</th>\n",
       "      <th>sku</th>\n",
       "      <th>sub_category</th>\n",
       "      <th>username</th>\n",
       "    </tr>\n",
       "  </thead>\n",
       "  <tbody>\n",
       "    <tr>\n",
       "      <th>0</th>\n",
       "      <td>https://www.wetnwildbeauty.com/media/catalog/p...</td>\n",
       "      <td>None</td>\n",
       "      <td>Pro Brush Line Brush Bundle</td>\n",
       "      <td>69.90</td>\n",
       "      <td>None</td>\n",
       "      <td>https://www.wetnwildbeauty.com/new/pro-brush-l...</td>\n",
       "      <td>7178</td>\n",
       "      <td>None</td>\n",
       "      <td>wetnwildbeauty</td>\n",
       "    </tr>\n",
       "    <tr>\n",
       "      <th>1</th>\n",
       "      <td>https://www.wetnwildbeauty.com/media/catalog/p...</td>\n",
       "      <td>None</td>\n",
       "      <td>MegaCushion Foundation SPF 15</td>\n",
       "      <td>8.99</td>\n",
       "      <td>None</td>\n",
       "      <td>https://www.wetnwildbeauty.com/new/megacushion...</td>\n",
       "      <td>7134</td>\n",
       "      <td>None</td>\n",
       "      <td>wetnwildbeauty</td>\n",
       "    </tr>\n",
       "    <tr>\n",
       "      <th>2</th>\n",
       "      <td>https://www.wetnwildbeauty.com/media/catalog/p...</td>\n",
       "      <td>None</td>\n",
       "      <td>MegaGlo Liquid Highlighter</td>\n",
       "      <td>5.99</td>\n",
       "      <td>None</td>\n",
       "      <td>https://www.wetnwildbeauty.com/new/megaglo-liq...</td>\n",
       "      <td>7131</td>\n",
       "      <td>None</td>\n",
       "      <td>wetnwildbeauty</td>\n",
       "    </tr>\n",
       "    <tr>\n",
       "      <th>3</th>\n",
       "      <td>https://www.wetnwildbeauty.com/media/catalog/p...</td>\n",
       "      <td>None</td>\n",
       "      <td>Color Icon Eyeshadow Quad</td>\n",
       "      <td>2.99</td>\n",
       "      <td>None</td>\n",
       "      <td>https://www.wetnwildbeauty.com/new/color-icon-...</td>\n",
       "      <td>7107</td>\n",
       "      <td>None</td>\n",
       "      <td>wetnwildbeauty</td>\n",
       "    </tr>\n",
       "    <tr>\n",
       "      <th>4</th>\n",
       "      <td>https://www.wetnwildbeauty.com/media/catalog/p...</td>\n",
       "      <td>None</td>\n",
       "      <td>Color Icon Eyeshadow 10 Pan Palette</td>\n",
       "      <td>4.99</td>\n",
       "      <td>None</td>\n",
       "      <td>https://www.wetnwildbeauty.com/new/color-icon-...</td>\n",
       "      <td>7086</td>\n",
       "      <td>None</td>\n",
       "      <td>wetnwildbeauty</td>\n",
       "    </tr>\n",
       "  </tbody>\n",
       "</table>\n",
       "</div>"
      ],
      "text/plain": [
       "                                           image_url main_category  \\\n",
       "0  https://www.wetnwildbeauty.com/media/catalog/p...          None   \n",
       "1  https://www.wetnwildbeauty.com/media/catalog/p...          None   \n",
       "2  https://www.wetnwildbeauty.com/media/catalog/p...          None   \n",
       "3  https://www.wetnwildbeauty.com/media/catalog/p...          None   \n",
       "4  https://www.wetnwildbeauty.com/media/catalog/p...          None   \n",
       "\n",
       "                                  name  price product_category  \\\n",
       "0          Pro Brush Line Brush Bundle  69.90             None   \n",
       "1        MegaCushion Foundation SPF 15   8.99             None   \n",
       "2           MegaGlo Liquid Highlighter   5.99             None   \n",
       "3            Color Icon Eyeshadow Quad   2.99             None   \n",
       "4  Color Icon Eyeshadow 10 Pan Palette   4.99             None   \n",
       "\n",
       "                                         product_url   sku sub_category  \\\n",
       "0  https://www.wetnwildbeauty.com/new/pro-brush-l...  7178         None   \n",
       "1  https://www.wetnwildbeauty.com/new/megacushion...  7134         None   \n",
       "2  https://www.wetnwildbeauty.com/new/megaglo-liq...  7131         None   \n",
       "3  https://www.wetnwildbeauty.com/new/color-icon-...  7107         None   \n",
       "4  https://www.wetnwildbeauty.com/new/color-icon-...  7086         None   \n",
       "\n",
       "         username  \n",
       "0  wetnwildbeauty  \n",
       "1  wetnwildbeauty  \n",
       "2  wetnwildbeauty  \n",
       "3  wetnwildbeauty  \n",
       "4  wetnwildbeauty  "
      ]
     },
     "execution_count": 679,
     "metadata": {},
     "output_type": "execute_result"
    }
   ],
   "source": [
    "df = pd.DataFrame(product_dict)\n",
    "df.head()"
   ]
  },
  {
   "cell_type": "code",
   "execution_count": 680,
   "metadata": {
    "collapsed": true
   },
   "outputs": [],
   "source": [
    "# Dropping duplicates\n",
    "\n",
    "df2 = df.drop_duplicates(subset = ['name','sku'])\n"
   ]
  },
  {
   "cell_type": "code",
   "execution_count": 681,
   "metadata": {
    "collapsed": true
   },
   "outputs": [],
   "source": [
    "# Exporting to csv\n",
    "\n",
    "df2.to_csv('Wetwildbeauty.csv')"
   ]
  },
  {
   "cell_type": "code",
   "execution_count": null,
   "metadata": {
    "collapsed": true
   },
   "outputs": [],
   "source": []
  }
 ],
 "metadata": {
  "kernelspec": {
   "display_name": "Python 3",
   "language": "python",
   "name": "python3"
  },
  "language_info": {
   "codemirror_mode": {
    "name": "ipython",
    "version": 3
   },
   "file_extension": ".py",
   "mimetype": "text/x-python",
   "name": "python",
   "nbconvert_exporter": "python",
   "pygments_lexer": "ipython3",
   "version": "3.6.3"
  }
 },
 "nbformat": 4,
 "nbformat_minor": 2
}
