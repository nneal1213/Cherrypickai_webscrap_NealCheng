{
 "cells": [
  {
   "cell_type": "code",
   "execution_count": 76,
   "metadata": {
    "collapsed": true
   },
   "outputs": [],
   "source": [
    "import json\n",
    "from bs4 import BeautifulSoup\n",
    "import pandas as pd\n",
    "import numpy as np\n",
    "import requests\n",
    "import re\n",
    "from time import time\n",
    "from collections import defaultdict"
   ]
  },
  {
   "cell_type": "code",
   "execution_count": 271,
   "metadata": {
    "collapsed": true
   },
   "outputs": [],
   "source": [
    "base_url = 'https://dermae.com'\n",
    "suffix_url = '/collections/all?page='\n",
    "username = 'dermae'\n"
   ]
  },
  {
   "cell_type": "code",
   "execution_count": 283,
   "metadata": {
    "collapsed": true
   },
   "outputs": [],
   "source": [
    "def get_image_url(soup):\n",
    "    each_product = soup.find_all('div',{'class':'grid__item small--one-whole medium--one-half large--one-fifth product-grid-item'})\n",
    "    return ['https://'+x.img['src'].strip('/') for x in each_product]\n",
    "\n",
    "def get_sku(soup):\n",
    "    \n",
    "    \n",
    "#     if x.find('select',{'name':'id'}).find('option')['data-sku'] is not None\n",
    "    each_product = soup.find_all('div',{'class':'grid__item small--one-whole medium--one-half large--one-fifth product-grid-item'})\n",
    "    \n",
    "    #item_details = [x for x in prod.find_all('div',class_='product details product-item-details')]\n",
    "\n",
    "    \n",
    "    \n",
    "    return [x['id'] for x in each_product]    \n",
    "    \n",
    "    #return  [x.find('select',{'name':'id'}).find('option')['data-sku'] for x in each_product]\n",
    "    \n",
    "\n",
    "def get_price(soup):\n",
    "    try:\n",
    "        each_product = soup.find_all('div',{'class':'grid__item small--one-whole medium--one-half large--one-fifth product-grid-item'})\n",
    "\n",
    "        price = [float(x.find(class_ = 'product-single__variants').text.strip().strip('$')) for x in each_product]\n",
    "        \n",
    "    except ValueError:\n",
    "        price = [None for x in each_product]\n",
    "        \n",
    "    return price\n",
    "\n",
    "def get_product_url(soup):\n",
    "    each_product = soup.find_all('div',{'class':'grid__item small--one-whole medium--one-half large--one-fifth product-grid-item'})\n",
    "     \n",
    "    return [base_url + x.find('div',{'class':'figcaption under'}).find('a')['href'] for x in each_product]   \n",
    "\n",
    "def get_product_name(soup):\n",
    "    each_product = soup.find_all('div',{'class':'grid__item small--one-whole medium--one-half large--one-fifth product-grid-item'})\n",
    "    \n",
    "    return [x.find('div',class_ = 'figcaption under').find('p').text.strip() for x in each_product]"
   ]
  },
  {
   "cell_type": "code",
   "execution_count": 284,
   "metadata": {
    "collapsed": true
   },
   "outputs": [],
   "source": [
    "funcs = {'name':get_product_name,\n",
    "         'product_url' : get_product_url,\n",
    "         'price' : get_price,\n",
    "         'sku' : get_sku,\n",
    "         'image_url' : get_image_url}"
   ]
  },
  {
   "cell_type": "code",
   "execution_count": 285,
   "metadata": {},
   "outputs": [],
   "source": [
    "product_dict = defaultdict(list)\n",
    "\n",
    "for counter in range(1,4):\n",
    "    try:\n",
    "        r = requests.get(base_url+suffix_url+str(counter))\n",
    "    except ConnectionError:\n",
    "        break\n",
    "        \n",
    "    soup = BeautifulSoup(r.text,'lxml')\n",
    "\n",
    "    for key,func in funcs.items():\n",
    "        product_dict[key].extend(func(soup))\n",
    "    \n",
    "    \n",
    "# Creating additional columns\n",
    "product_dict['username'] = [username for x in range(len(product_dict['name']))]\n",
    "product_dict['main_category'] = [None for x in range(len(product_dict['name']))]\n",
    "product_dict['sub_category'] = [None for x in range(len(product_dict['name']))]\n",
    "product_dict['product_category'] = [None for x in range(len(product_dict['name']))]\n"
   ]
  },
  {
   "cell_type": "code",
   "execution_count": 286,
   "metadata": {},
   "outputs": [
    {
     "data": {
      "text/html": [
       "<div>\n",
       "<style>\n",
       "    .dataframe thead tr:only-child th {\n",
       "        text-align: right;\n",
       "    }\n",
       "\n",
       "    .dataframe thead th {\n",
       "        text-align: left;\n",
       "    }\n",
       "\n",
       "    .dataframe tbody tr th {\n",
       "        vertical-align: top;\n",
       "    }\n",
       "</style>\n",
       "<table border=\"1\" class=\"dataframe\">\n",
       "  <thead>\n",
       "    <tr style=\"text-align: right;\">\n",
       "      <th></th>\n",
       "      <th>image_url</th>\n",
       "      <th>main_category</th>\n",
       "      <th>name</th>\n",
       "      <th>price</th>\n",
       "      <th>product_category</th>\n",
       "      <th>product_url</th>\n",
       "      <th>sku</th>\n",
       "      <th>sub_category</th>\n",
       "      <th>username</th>\n",
       "    </tr>\n",
       "  </thead>\n",
       "  <tbody>\n",
       "    <tr>\n",
       "      <th>0</th>\n",
       "      <td>https://cdn.shopify.com/s/files/1/1525/1400/pr...</td>\n",
       "      <td>None</td>\n",
       "      <td>$20 Gift Card</td>\n",
       "      <td>None</td>\n",
       "      <td>None</td>\n",
       "      <td>https://dermae.com/products/gift-card</td>\n",
       "      <td>10815783368</td>\n",
       "      <td>None</td>\n",
       "      <td>dermae</td>\n",
       "    </tr>\n",
       "    <tr>\n",
       "      <th>1</th>\n",
       "      <td>https://cdn.shopify.com/s/files/1/1525/1400/pr...</td>\n",
       "      <td>None</td>\n",
       "      <td>$40 Gift Card</td>\n",
       "      <td>None</td>\n",
       "      <td>None</td>\n",
       "      <td>https://dermae.com/products/40-gift-card</td>\n",
       "      <td>60826943496</td>\n",
       "      <td>None</td>\n",
       "      <td>dermae</td>\n",
       "    </tr>\n",
       "    <tr>\n",
       "      <th>2</th>\n",
       "      <td>https://cdn.shopify.com/s/files/1/1525/1400/pr...</td>\n",
       "      <td>None</td>\n",
       "      <td>3-in-1 Hair Protection Serum</td>\n",
       "      <td>None</td>\n",
       "      <td>None</td>\n",
       "      <td>https://dermae.com/products/3-in-1-hair-protec...</td>\n",
       "      <td>10079341576</td>\n",
       "      <td>None</td>\n",
       "      <td>dermae</td>\n",
       "    </tr>\n",
       "    <tr>\n",
       "      <th>3</th>\n",
       "      <td>https://cdn.shopify.com/s/files/1/1525/1400/pr...</td>\n",
       "      <td>None</td>\n",
       "      <td>Age-Defying Antioxidant Day Cream</td>\n",
       "      <td>None</td>\n",
       "      <td>None</td>\n",
       "      <td>https://dermae.com/products/age-defying-antiox...</td>\n",
       "      <td>7966871368</td>\n",
       "      <td>None</td>\n",
       "      <td>dermae</td>\n",
       "    </tr>\n",
       "    <tr>\n",
       "      <th>4</th>\n",
       "      <td>https://cdn.shopify.com/s/files/1/1525/1400/pr...</td>\n",
       "      <td>None</td>\n",
       "      <td>Age-Defying Antioxidant Eye Cream</td>\n",
       "      <td>None</td>\n",
       "      <td>None</td>\n",
       "      <td>https://dermae.com/products/age-defying-antiox...</td>\n",
       "      <td>7967103368</td>\n",
       "      <td>None</td>\n",
       "      <td>dermae</td>\n",
       "    </tr>\n",
       "  </tbody>\n",
       "</table>\n",
       "</div>"
      ],
      "text/plain": [
       "                                           image_url main_category  \\\n",
       "0  https://cdn.shopify.com/s/files/1/1525/1400/pr...          None   \n",
       "1  https://cdn.shopify.com/s/files/1/1525/1400/pr...          None   \n",
       "2  https://cdn.shopify.com/s/files/1/1525/1400/pr...          None   \n",
       "3  https://cdn.shopify.com/s/files/1/1525/1400/pr...          None   \n",
       "4  https://cdn.shopify.com/s/files/1/1525/1400/pr...          None   \n",
       "\n",
       "                                name price product_category  \\\n",
       "0                      $20 Gift Card  None             None   \n",
       "1                      $40 Gift Card  None             None   \n",
       "2       3-in-1 Hair Protection Serum  None             None   \n",
       "3  Age-Defying Antioxidant Day Cream  None             None   \n",
       "4  Age-Defying Antioxidant Eye Cream  None             None   \n",
       "\n",
       "                                         product_url          sku  \\\n",
       "0              https://dermae.com/products/gift-card  10815783368   \n",
       "1           https://dermae.com/products/40-gift-card  60826943496   \n",
       "2  https://dermae.com/products/3-in-1-hair-protec...  10079341576   \n",
       "3  https://dermae.com/products/age-defying-antiox...   7966871368   \n",
       "4  https://dermae.com/products/age-defying-antiox...   7967103368   \n",
       "\n",
       "  sub_category username  \n",
       "0         None   dermae  \n",
       "1         None   dermae  \n",
       "2         None   dermae  \n",
       "3         None   dermae  \n",
       "4         None   dermae  "
      ]
     },
     "execution_count": 286,
     "metadata": {},
     "output_type": "execute_result"
    }
   ],
   "source": [
    "df = pd.DataFrame(product_dict)\n",
    "df.head()"
   ]
  },
  {
   "cell_type": "code",
   "execution_count": 289,
   "metadata": {},
   "outputs": [
    {
     "data": {
      "text/plain": [
       "(100, 9)"
      ]
     },
     "execution_count": 289,
     "metadata": {},
     "output_type": "execute_result"
    }
   ],
   "source": [
    "# Dropping duplicates\n",
    "\n",
    "df2 = df.drop_duplicates(subset = ['name','sku'])\n",
    "df2.shape"
   ]
  },
  {
   "cell_type": "code",
   "execution_count": 290,
   "metadata": {
    "collapsed": true
   },
   "outputs": [],
   "source": [
    "# Exporting to csv\n",
    "\n",
    "df2.to_csv(username+'.csv')"
   ]
  },
  {
   "cell_type": "code",
   "execution_count": null,
   "metadata": {
    "collapsed": true
   },
   "outputs": [],
   "source": []
  }
 ],
 "metadata": {
  "kernelspec": {
   "display_name": "Python 3",
   "language": "python",
   "name": "python3"
  },
  "language_info": {
   "codemirror_mode": {
    "name": "ipython",
    "version": 3
   },
   "file_extension": ".py",
   "mimetype": "text/x-python",
   "name": "python",
   "nbconvert_exporter": "python",
   "pygments_lexer": "ipython3",
   "version": "3.6.3"
  }
 },
 "nbformat": 4,
 "nbformat_minor": 2
}
